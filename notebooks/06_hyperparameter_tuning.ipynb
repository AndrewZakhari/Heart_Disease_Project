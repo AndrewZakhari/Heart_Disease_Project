{
 "cells": [
  {
   "cell_type": "markdown",
   "id": "d6992dc3",
   "metadata": {},
   "source": [
    "### Importing Libraries:"
   ]
  },
  {
   "cell_type": "code",
   "execution_count": 2,
   "id": "7c4a57db",
   "metadata": {},
   "outputs": [],
   "source": [
    "import pandas as pd\n",
    "import numpy as np\n",
    "import matplotlib.pyplot as plt\n",
    "import seaborn as sns\n",
    "from sklearn.model_selection import train_test_split, GridSearchCV, RandomizedSearchCV\n",
    "from sklearn.ensemble import RandomForestClassifier\n",
    "from sklearn.svm import SVC\n",
    "from sklearn.linear_model import LogisticRegression\n",
    "from sklearn.tree import DecisionTreeClassifier\n",
    "from sklearn.metrics import accuracy_score, precision_score, recall_score, f1_score, roc_auc_score, classification_report, confusion_matrix\n",
    "from sklearn.preprocessing import StandardScaler\n",
    "import warnings\n",
    "warnings.filterwarnings('ignore')\n",
    "\n",
    "sns.set_style(\"whitegrid\")\n",
    "plt.rcParams['figure.figsize'] = (8, 5)"
   ]
  },
  {
   "cell_type": "markdown",
   "id": "93a3b85e",
   "metadata": {},
   "source": [
    "### Loading and preparing data:"
   ]
  },
  {
   "cell_type": "code",
   "execution_count": 17,
   "id": "90f2b339",
   "metadata": {},
   "outputs": [
    {
     "name": "stdout",
     "output_type": "stream",
     "text": [
      "Training set size: X_train: (736, 10), y_train: (736,)\n",
      "Testing set size: X_test: (184, 10), y_test: (184,)\n",
      "Features are ready for modeling.\n"
     ]
    }
   ],
   "source": [
    "df_preprocessed = pd.read_csv('../data/processed_heart_disease.csv')\n",
    "\n",
    "X = pd.read_csv(\"../data/X_selected_features.csv\")\n",
    "y = df_preprocessed['target']\n",
    "\n",
    "X_train, X_test, y_train, y_test = train_test_split(X, y, test_size=0.2, random_state=42)\n",
    "\n",
    "print(f\"Training set size: X_train: {X_train.shape}, y_train: {y_train.shape}\")\n",
    "print(f\"Testing set size: X_test: {X_test.shape}, y_test: {y_test.shape}\")\n",
    "\n",
    "scaler = StandardScaler()\n",
    "X_train_scaled = scaler.fit_transform(X_train)\n",
    "X_test_scaled = scaler.fit_transform(X_test)\n",
    "\n",
    "print(\"Features are ready for modeling.\")"
   ]
  },
  {
   "cell_type": "markdown",
   "id": "9805f4ef",
   "metadata": {},
   "source": [
    "### Defining Models and Parameter Grids:"
   ]
  },
  {
   "cell_type": "code",
   "execution_count": 18,
   "id": "f40c8df4",
   "metadata": {},
   "outputs": [],
   "source": [
    "rf_model = RandomForestClassifier(random_state=42)\n",
    "rf_param_grid = {\n",
    "    'n_estimators': [50, 100, 200],\n",
    "    'max_depth': [None, 5, 10],\n",
    "    'min_samples_split': [2, 5],\n",
    "    'min_samples_leaf': [1,2]\n",
    "}\n",
    "\n",
    "\n",
    "svm_model = SVC(random_state=42, probability=True)\n",
    "svm_param_grid = {\n",
    "    'C': [0.1, 1, 10],\n",
    "    'kernel': ['linear', 'rbf'],\n",
    "    'gamma': ['scale', 'auto']\n",
    "}\n",
    "\n",
    "\n",
    "lr_model = LogisticRegression(random_state=42, max_iter=1000)\n",
    "lr_param_grid = {\n",
    "    'C': [0.01, 0.1, 1, 10],\n",
    "    'penalty': ['l1', 'l2'],\n",
    "    'solver': ['liblinear']\n",
    "}\n",
    "\n",
    "dt_model = DecisionTreeClassifier(random_state=42)\n",
    "dt_param_grid = {\n",
    "    'max_depth': [None, 3, 5, 10],\n",
    "    'min_samples_split': [2, 5, 10],\n",
    "    'min_samples_leaf': [1, 2, 4]\n",
    "}\n",
    "\n",
    "models_to_tune = {\n",
    "    'Random Forest': (rf_model, rf_param_grid),\n",
    "    'SVM': (svm_model, svm_param_grid)\n",
    "    # 'Logisitc Regression': (lr_model, lr_param_grid),\n",
    "    # 'Decision Tree': (dt_model, dt_param_grid)\n",
    "}\n",
    "\n",
    "tuning_results = {}"
   ]
  },
  {
   "cell_type": "markdown",
   "id": "61034462",
   "metadata": {},
   "source": [
    "### Hyper Parameter Tuning:"
   ]
  },
  {
   "cell_type": "code",
   "execution_count": 19,
   "id": "f1724fea",
   "metadata": {},
   "outputs": [
    {
     "name": "stdout",
     "output_type": "stream",
     "text": [
      "--- Starting Hyperparameter Tuning ---\n",
      "\n",
      "Tuning Random Forest\n",
      "Fitting 5 folds for each of 36 candidates, totalling 180 fits\n",
      "Best parameters for Random Forest: {'max_depth': 5, 'min_samples_leaf': 1, 'min_samples_split': 5, 'n_estimators': 100}\n",
      "Best cross-validation score for Random Forest: 0.8139\n",
      "\n",
      "Tuning SVM\n",
      "Fitting 5 folds for each of 12 candidates, totalling 60 fits\n",
      "Best parameters for SVM: {'C': 0.1, 'gamma': 'scale', 'kernel': 'linear'}\n",
      "Best cross-validation score for SVM: 0.8207\n",
      "\n",
      "--- Hyperparameter Tuning Completed ---\n"
     ]
    }
   ],
   "source": [
    "print(\"--- Starting Hyperparameter Tuning ---\")\n",
    "\n",
    "for model_name, (model, param_grid) in models_to_tune.items():\n",
    "    print(f\"\\nTuning {model_name}\")\n",
    "    \n",
    "    \n",
    "    grid_search = GridSearchCV(estimator=model, param_grid=param_grid, cv=5, scoring='accuracy', n_jobs=-1, verbose=1)\n",
    "    \n",
    "    grid_search.fit(X_train_scaled, y_train)\n",
    "   \n",
    "    \n",
    "    best_model = grid_search.best_estimator_\n",
    "    best_params = grid_search.best_params_\n",
    "    best_score = grid_search.best_score_\n",
    "    \n",
    "    tuning_results[model_name] = {\n",
    "        'best_model': best_model,\n",
    "        'best_params': best_params,\n",
    "        'best_cv_score': best_score,\n",
    "        'grid_search_object': grid_search\n",
    "    }\n",
    "    \n",
    "    print(f\"Best parameters for {model_name}: {best_params}\")\n",
    "    print(f\"Best cross-validation score for {model_name}: {best_score:.4f}\")\n",
    "    \n",
    "print(\"\\n--- Hyperparameter Tuning Completed ---\")"
   ]
  },
  {
   "cell_type": "markdown",
   "id": "446c6f8f",
   "metadata": {},
   "source": [
    "### Evaluating Tuned Models:"
   ]
  },
  {
   "cell_type": "code",
   "execution_count": 20,
   "id": "838473f6",
   "metadata": {},
   "outputs": [
    {
     "name": "stdout",
     "output_type": "stream",
     "text": [
      "\n",
      "--- Evaluating Tuned Models on Test Set ---\n",
      "\n",
      "--- Evaluating Best Random Forest ---\n",
      "Test Accuracy: 0.8261\n",
      "Test Precision: 0.8738\n",
      "Test Recall: 0.8257\n",
      "Test F1-Score: 0.8491\n",
      "Test ROC AUC: 0.9024\n",
      "Best Parameters: {'max_depth': 5, 'min_samples_leaf': 1, 'min_samples_split': 5, 'n_estimators': 100}\n",
      "\n",
      "Classification Report:\n",
      "              precision    recall  f1-score   support\n",
      "\n",
      "           0       0.77      0.83      0.79        75\n",
      "           1       0.87      0.83      0.85       109\n",
      "\n",
      "    accuracy                           0.83       184\n",
      "   macro avg       0.82      0.83      0.82       184\n",
      "weighted avg       0.83      0.83      0.83       184\n",
      "\n"
     ]
    },
    {
     "data": {
      "image/png": "[encoded data removed]",
      "text/plain": [
       "<Figure size 600x400 with 2 Axes>"
      ]
     },
     "metadata": {},
     "output_type": "display_data"
    },
    {
     "name": "stdout",
     "output_type": "stream",
     "text": [
      "\n",
      "--- Final Evaluation Summary (Test Set) ---\n",
      "               Accuracy Precision    Recall  F1-Score   ROC AUC Best_CV_Score\n",
      "Random Forest  0.826087  0.873786  0.825688  0.849057  0.902385      0.813927\n",
      "\n",
      "--- Evaluating Best SVM ---\n",
      "Test Accuracy: 0.7989\n",
      "Test Precision: 0.8396\n",
      "Test Recall: 0.8165\n",
      "Test F1-Score: 0.8279\n",
      "Test ROC AUC: 0.8774\n",
      "Best Parameters: {'C': 0.1, 'gamma': 'scale', 'kernel': 'linear'}\n",
      "\n",
      "Classification Report:\n",
      "              precision    recall  f1-score   support\n",
      "\n",
      "           0       0.74      0.77      0.76        75\n",
      "           1       0.84      0.82      0.83       109\n",
      "\n",
      "    accuracy                           0.80       184\n",
      "   macro avg       0.79      0.79      0.79       184\n",
      "weighted avg       0.80      0.80      0.80       184\n",
      "\n"
     ]
    },
    {
     "data": {
      "image/png": "[encoded data removed]",
      "text/plain": [
       "<Figure size 600x400 with 2 Axes>"
      ]
     },
     "metadata": {},
     "output_type": "display_data"
    },
    {
     "name": "stdout",
     "output_type": "stream",
     "text": [
      "\n",
      "--- Final Evaluation Summary (Test Set) ---\n",
      "               Accuracy Precision    Recall  F1-Score   ROC AUC Best_CV_Score\n",
      "Random Forest  0.826087  0.873786  0.825688  0.849057  0.902385      0.813927\n",
      "SVM            0.798913  0.839623  0.816514  0.827907  0.877431      0.820684\n"
     ]
    }
   ],
   "source": [
    "print('\\n--- Evaluating Tuned Models on Test Set ---')\n",
    "\n",
    "final_evaluation_results = {}\n",
    "\n",
    "for model_name, results in tuning_results.items():\n",
    "    best_model = results['best_model']\n",
    "    print(f\"\\n--- Evaluating Best {model_name} ---\")\n",
    "    \n",
    "    \n",
    "    y_pred = best_model.predict(X_test_scaled)\n",
    "    y_pred_proba = best_model.predict_proba(X_test_scaled)[:, 1]\n",
    "    \n",
    "    \n",
    "    accuracy = accuracy_score(y_test, y_pred)\n",
    "    precision = precision_score(y_test, y_pred, zero_division=0)\n",
    "    recall = recall_score(y_test, y_pred, zero_division=0)\n",
    "    f1 = f1_score(y_test, y_pred, zero_division=0)\n",
    "    roc_auc = roc_auc_score(y_test, y_pred_proba)\n",
    "    \n",
    "    final_evaluation_results[model_name] = {\n",
    "        'Accuracy': accuracy,\n",
    "        'Precision': precision,\n",
    "        'Recall': recall,\n",
    "        'F1-Score': f1,\n",
    "        'ROC AUC': roc_auc,\n",
    "        'Best_Params': results['best_params'],\n",
    "        'Best_CV_Score': results['best_cv_score']\n",
    "    }\n",
    "    \n",
    "    print(f\"Test Accuracy: {accuracy:.4f}\")\n",
    "    print(f\"Test Precision: {precision:.4f}\")\n",
    "    print(f\"Test Recall: {recall:.4f}\")\n",
    "    print(f\"Test F1-Score: {f1:.4f}\")\n",
    "    print(f\"Test ROC AUC: {roc_auc:.4f}\")\n",
    "    print(f\"Best Parameters: {results['best_params']}\")\n",
    "    \n",
    "    print(\"\\nClassification Report:\")\n",
    "    print(classification_report(y_test, y_pred))\n",
    "    \n",
    "    cm = confusion_matrix(y_test, y_pred)\n",
    "    plt.figure(figsize=(6, 4))\n",
    "    sns.heatmap(cm, annot=True, fmt='d', cmap='Blues', xticklabels=['No Disease', 'Disease'], \n",
    "                yticklabels=['No Disease', 'Disease'])\n",
    "    plt.title(f\"Confussion Matrix - Best {model_name}\")\n",
    "    plt.xlabel(\"Predicted Label\")\n",
    "    plt.ylabel('True Label')\n",
    "    plt.show()\n",
    "    \n",
    "    print(\"\\n--- Final Evaluation Summary (Test Set) ---\")\n",
    "    results_df = pd.DataFrame(final_evaluation_results).T\n",
    "    print(results_df[['Accuracy', 'Precision', 'Recall', 'F1-Score', 'ROC AUC', 'Best_CV_Score']])\n",
    "    "
   ]
  },
  {
   "cell_type": "markdown",
   "id": "21860ca3",
   "metadata": {},
   "source": [
    "### Comparing with BaseLine models "
   ]
  },
  {
   "cell_type": "code",
   "execution_count": 21,
   "id": "6d7f1275",
   "metadata": {},
   "outputs": [
    {
     "name": "stdout",
     "output_type": "stream",
     "text": [
      "\n",
      "--- Comparison: Tuned vs Baseline (F1-Score) ---\n",
      "                  Tuned  Baseline\n",
      "Random Forest  0.849057       NaN\n",
      "SVM            0.827907       NaN\n"
     ]
    }
   ],
   "source": [
    "baseline_results = {\n",
    "    'Random Forest (Baseline)': {'Accuracy': 0.82, 'F1-Score': 0.84, 'ROC AUC': 0.9},\n",
    "    'SVM (Baseline)': {'Accuracy': 0.75, 'F1-Score': 0.78, 'ROC AUC': 0.77}\n",
    "}\n",
    "\n",
    "comparison_df = pd.DataFrame({\n",
    "    'Tuned': results_df['F1-Score'],\n",
    "    'Baseline': [baseline_results.get(name, {}).get('F1-Score', np.nan) for name in results_df.index]\n",
    "})\n",
    "\n",
    "print(\"\\n--- Comparison: Tuned vs Baseline (F1-Score) ---\")\n",
    "print(comparison_df)"
   ]
  },
  {
   "cell_type": "markdown",
   "id": "99dd1ee3",
   "metadata": {},
   "source": [
    "### Selecting and Saving the Best Overall Model:"
   ]
  },
  {
   "cell_type": "code",
   "execution_count": 22,
   "id": "7b1a0850",
   "metadata": {},
   "outputs": [
    {
     "name": "stdout",
     "output_type": "stream",
     "text": [
      "\n",
      "--- Best Overall Model (based on F1-Score) ---\n",
      "Model: Random Forest\n",
      "F1-Score on Test Set: 0.8491\n",
      "Parameters: {'max_depth': 5, 'min_samples_leaf': 1, 'min_samples_split': 5, 'n_estimators': 100}\n",
      "\n",
      "Best model saved to: ../models/final_model.pkl\n",
      "Tuning results saved to: ../results/hyperparameter_tuning_resutls.csv\n"
     ]
    }
   ],
   "source": [
    "best_overall_model_name = results_df['F1-Score'].idxmax()\n",
    "best_overall_model = tuning_results[best_overall_model_name]['best_model']\n",
    "best_overall_score = results_df.loc[best_overall_model_name, 'F1-Score']\n",
    "\n",
    "print(f\"\\n--- Best Overall Model (based on F1-Score) ---\")\n",
    "print(f\"Model: {best_overall_model_name}\")\n",
    "print(f\"F1-Score on Test Set: {best_overall_score:.4f}\")\n",
    "print(f\"Parameters: {tuning_results[best_overall_model_name]['best_params']}\")\n",
    "\n",
    "\n",
    "import joblib\n",
    "model_save_path = '../models/final_model.pkl'\n",
    "joblib.dump(best_overall_model, model_save_path)\n",
    "print(f\"\\nBest model saved to: {model_save_path}\")\n",
    "\n",
    "results_save_path = '../results/hyperparameter_tuning_resutls.csv'\n",
    "results_df.to_csv(results_save_path)\n",
    "print(f\"Tuning results saved to: {results_save_path}\")"
   ]
  },
  {
   "cell_type": "code",
   "execution_count": null,
   "id": "da7c28b0",
   "metadata": {},
   "outputs": [],
   "source": []
  }
 ],
 "metadata": {
  "kernelspec": {
   "display_name": "venv",
   "language": "python",
   "name": "python3"
  },
  "language_info": {
   "codemirror_mode": {
    "name": "ipython",
    "version": 3
   },
   "file_extension": ".py",
   "mimetype": "text/x-python",
   "name": "python",
   "nbconvert_exporter": "python",
   "pygments_lexer": "ipython3",
   "version": "3.11.2"
  }
 },
 "nbformat": 4,
 "nbformat_minor": 5
}
